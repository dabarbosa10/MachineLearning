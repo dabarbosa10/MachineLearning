{
 "cells": [
  {
   "cell_type": "code",
   "execution_count": 13,
   "metadata": {},
   "outputs": [],
   "source": [
    "import torch\n",
    "import torchvision\n",
    "import numpy as np\n",
    "from torchvision import datasets, models, transforms\n",
    "\n",
    "# This is used to transform the images to Tensor and normalize it\n",
    "transform = transforms.Compose([transforms.ToTensor(),\n",
    "transforms.Normalize((0.5,), (0.5,))\n",
    "])\n",
    "\n",
    "training = torchvision.datasets.MNIST(root='./data', train=True,download=True, transform=transform)\n",
    "train_loader = torch.utils.data.DataLoader(training, batch_size=4,shuffle=True, num_workers=2)\n",
    "\n",
    "testing = torchvision.datasets.MNIST(root='./data', train=False,download=True, transform=transform)\n",
    "test_loader = torch.utils.data.DataLoader(testing, batch_size=4,shuffle=False, num_workers=2)\n",
    "\n",
    "classes = ('0', '1', '2', '3',\n",
    "          '4', '5', '6', '7', '8', '9')\n"
   ]
  },
  {
   "cell_type": "code",
   "execution_count": 14,
   "metadata": {},
   "outputs": [
    {
     "data": {
      "image/png": "[encoded data removed]",
      "text/plain": [
       "<Figure size 432x288 with 4 Axes>"
      ]
     },
     "metadata": {
      "needs_background": "light"
     },
     "output_type": "display_data"
    }
   ],
   "source": [
    "         \n",
    "import matplotlib.pyplot as plt\n",
    "import numpy as np\n",
    "\n",
    "#create an iterator for train_loader\n",
    "# get random training images\n",
    "data_iterator = iter(train_loader)\n",
    "images, labels = data_iterator.next()\n",
    "\n",
    "#plot 4 images to visualize the data\n",
    "rows = 2\n",
    "columns = 2\n",
    "fig=plt.figure()\n",
    "for i in range(4):\n",
    "   fig.add_subplot(rows, columns, i+1)\n",
    "   plt.title(classes[labels[i]])\n",
    "   img = images[i] / 2 + 0.5     # this is for unnormalize the image\n",
    "   img = torchvision.transforms.ToPILImage()(img)\n",
    "   plt.imshow(img)\n",
    "plt.show()\n"
   ]
  },
  {
   "cell_type": "code",
   "execution_count": 21,
   "metadata": {},
   "outputs": [
    {
     "ename": "IndexError",
     "evalue": "index 4 is out of bounds for dimension 0 with size 4",
     "output_type": "error",
     "traceback": [
      "\u001b[0;31m---------------------------------------------------------------------------\u001b[0m",
      "\u001b[0;31mIndexError\u001b[0m                                Traceback (most recent call last)",
      "\u001b[0;32m<ipython-input-21-a5e31274acb6>\u001b[0m in \u001b[0;36m<module>\u001b[0;34m\u001b[0m\n\u001b[0;32m----> 1\u001b[0;31m \u001b[0mtorchvision\u001b[0m\u001b[0;34m.\u001b[0m\u001b[0mtransforms\u001b[0m\u001b[0;34m.\u001b[0m\u001b[0mToPILImage\u001b[0m\u001b[0;34m(\u001b[0m\u001b[0;34m)\u001b[0m\u001b[0;34m(\u001b[0m\u001b[0mimages\u001b[0m\u001b[0;34m[\u001b[0m\u001b[0;36m4\u001b[0m\u001b[0;34m]\u001b[0m\u001b[0;34m)\u001b[0m\u001b[0;34m\u001b[0m\u001b[0;34m\u001b[0m\u001b[0m\n\u001b[0m",
      "\u001b[0;31mIndexError\u001b[0m: index 4 is out of bounds for dimension 0 with size 4"
     ]
    }
   ],
   "source": [
    "torchvision.transforms.ToPILImage()(images[4])"
   ]
  },
  {
   "cell_type": "code",
   "execution_count": 22,
   "metadata": {},
   "outputs": [
    {
     "data": {
      "text/plain": [
       "torch.Size([4, 1, 28, 28])"
      ]
     },
     "execution_count": 22,
     "metadata": {},
     "output_type": "execute_result"
    }
   ],
   "source": [
    "images.shape"
   ]
  },
  {
   "cell_type": "code",
   "execution_count": 23,
   "metadata": {},
   "outputs": [
    {
     "name": "stdout",
     "output_type": "stream",
     "text": [
      "Sequential(\n",
      "  (0): Conv2d(1, 10, kernel_size=(5, 5), stride=(1, 1))\n",
      "  (1): MaxPool2d(kernel_size=2, stride=2, padding=0, dilation=1, ceil_mode=False)\n",
      "  (2): ReLU()\n",
      "  (3): Dropout2d(p=0.5)\n",
      "  (4): Conv2d(10, 20, kernel_size=(5, 5), stride=(1, 1))\n",
      "  (5): MaxPool2d(kernel_size=2, stride=2, padding=0, dilation=1, ceil_mode=False)\n",
      "  (6): ReLU()\n",
      "  (7): Flatten()\n",
      "  (8): Linear(in_features=320, out_features=50, bias=True)\n",
      "  (9): ReLU()\n",
      "  (10): Linear(in_features=50, out_features=10, bias=True)\n",
      "  (11): Softmax()\n",
      ")\n"
     ]
    }
   ],
   "source": [
    "import torch.nn as nn\n",
    "\n",
    "# flatten the tensor into \n",
    "class Flatten(nn.Module):\n",
    "   def forward(self, input):\n",
    "       return input.view(input.size(0), -1)\n",
    "\n",
    "#sequential based model\n",
    "seq_model = nn.Sequential(\n",
    "           nn.Conv2d(1, 10, kernel_size=5),\n",
    "           nn.MaxPool2d(2),\n",
    "           nn.ReLU(),\n",
    "           nn.Dropout2d(),\n",
    "           nn.Conv2d(10, 20, kernel_size=5),\n",
    "           nn.MaxPool2d(2),\n",
    "           nn.ReLU(),\n",
    "           Flatten(),\n",
    "           nn.Linear(320, 50),\n",
    "           nn.ReLU(),\n",
    "           nn.Linear(50, 10),\n",
    "           nn.Softmax(),\n",
    "         )\n",
    "\n",
    "net = seq_model\n",
    "print(net)\n"
   ]
  },
  {
   "cell_type": "code",
   "execution_count": 24,
   "metadata": {},
   "outputs": [],
   "source": [
    "import torch.optim as optim\n",
    "\n",
    "criterion = nn.CrossEntropyLoss()\n",
    "optimizer = optim.SGD(net.parameters(), lr=0.001, momentum=0.9)"
   ]
  },
  {
   "cell_type": "code",
   "execution_count": 25,
   "metadata": {},
   "outputs": [
    {
     "name": "stderr",
     "output_type": "stream",
     "text": [
      "/home/UANDES/da.barbosa10/anaconda3/lib/python3.7/site-packages/torch/nn/modules/container.py:92: UserWarning: Implicit dimension choice for softmax has been deprecated. Change the call to include dim=X as an argument.\n",
      "  input = module(input)\n"
     ]
    },
    {
     "name": "stdout",
     "output_type": "stream",
     "text": [
      "[1,     1] loss: 0.002\n",
      "[1,  1001] loss: 2.302\n",
      "[1,  2001] loss: 2.297\n",
      "[1,  3001] loss: 2.206\n",
      "[1,  4001] loss: 1.976\n",
      "[1,  5001] loss: 1.806\n",
      "[1,  6001] loss: 1.758\n",
      "[1,  7001] loss: 1.754\n",
      "[1,  8001] loss: 1.735\n",
      "[1,  9001] loss: 1.733\n",
      "[1, 10001] loss: 1.721\n",
      "[1, 11001] loss: 1.715\n",
      "[1, 12001] loss: 1.719\n",
      "[1, 13001] loss: 1.705\n",
      "[1, 14001] loss: 1.717\n",
      "[2,     1] loss: 0.002\n",
      "[2,  1001] loss: 1.708\n",
      "[2,  2001] loss: 1.694\n",
      "[2,  3001] loss: 1.716\n",
      "[2,  4001] loss: 1.686\n",
      "[2,  5001] loss: 1.691\n",
      "[2,  6001] loss: 1.694\n",
      "[2,  7001] loss: 1.690\n",
      "[2,  8001] loss: 1.697\n",
      "[2,  9001] loss: 1.683\n",
      "[2, 10001] loss: 1.699\n",
      "[2, 11001] loss: 1.694\n",
      "[2, 12001] loss: 1.688\n",
      "[2, 13001] loss: 1.682\n",
      "[2, 14001] loss: 1.686\n"
     ]
    }
   ],
   "source": [
    "for epoch in range(2): \n",
    "\n",
    "#set the running loss at each epoch to zero\n",
    "   running_loss = 0.0\n",
    "# we will enumerate the train loader with starting index of 0\n",
    "# for each iteration (i) and the data (tuple of input and labels)\n",
    "   for i, data in enumerate(train_loader, 0):\n",
    "       inputs, labels = data\n",
    "\n",
    "# clear the gradient\n",
    "       optimizer.zero_grad()\n",
    "\n",
    "#feed the input and acquire the output from network\n",
    "       outputs = net(inputs)\n",
    "\n",
    "#calculating the predicted and the expected loss\n",
    "       loss = criterion(outputs, labels)\n",
    "\n",
    "#compute the gradient\n",
    "       loss.backward()\n",
    "\n",
    "#update the parameters\n",
    "       optimizer.step()\n",
    "\n",
    "       # print statistics\n",
    "       running_loss += loss.item()\n",
    "       if i % 1000 == 0:\n",
    "           print('[%d, %5d] loss: %.3f' %\n",
    "                 (epoch + 1, i + 1, running_loss / 1000))\n",
    "           running_loss = 0.0\n"
   ]
  },
  {
   "cell_type": "code",
   "execution_count": 26,
   "metadata": {},
   "outputs": [
    {
     "name": "stdout",
     "output_type": "stream",
     "text": [
      "Predicted:      7     2     1     0\n"
     ]
    },
    {
     "data": {
      "image/png": "[encoded data removed]",
      "text/plain": [
       "<Figure size 432x288 with 4 Axes>"
      ]
     },
     "metadata": {
      "needs_background": "light"
     },
     "output_type": "display_data"
    }
   ],
   "source": [
    "#make an iterator from test_loader\n",
    "#Get a batch of training images\n",
    "test_iterator = iter(test_loader)\n",
    "images, labels = test_iterator.next()\n",
    "\n",
    "results = net(images)\n",
    "_, predicted = torch.max(results, 1)\n",
    "\n",
    "print('Predicted: ', ' '.join('%5s' % classes[predicted[j]] for j in range(4)))\n",
    "\n",
    "fig2 = plt.figure()\n",
    "for i in range(4):\n",
    "   fig2.add_subplot(rows, columns, i+1)\n",
    "   plt.title('truth ' + classes[labels[i]] + ': predict ' + classes[predicted[i]])\n",
    "   img = images[i] / 2 + 0.5     # this is to unnormalize the image\n",
    "   img = torchvision.transforms.ToPILImage()(img)\n",
    "   plt.imshow(img)\n",
    "plt.show()"
   ]
  },
  {
   "cell_type": "code",
   "execution_count": null,
   "metadata": {},
   "outputs": [],
   "source": []
  }
 ],
 "metadata": {
  "kernelspec": {
   "display_name": "Python 3",
   "language": "python",
   "name": "python3"
  },
  "language_info": {
   "codemirror_mode": {
    "name": "ipython",
    "version": 3
   },
   "file_extension": ".py",
   "mimetype": "text/x-python",
   "name": "python",
   "nbconvert_exporter": "python",
   "pygments_lexer": "ipython3",
   "version": "3.7.3"
  }
 },
 "nbformat": 4,
 "nbformat_minor": 2
}
